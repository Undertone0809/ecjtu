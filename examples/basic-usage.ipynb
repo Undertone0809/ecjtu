{
 "cells": [
  {
   "cell_type": "markdown",
   "source": [
    "# Basic Usage\n",
    "\n",
    "该文档将介绍 ECJTU 的基本使用方式，接下来，我们导入 `ECJTU` 类，并构造一个 client 进行登录。"
   ],
   "metadata": {
    "collapsed": false
   },
   "id": "463c499cde60b78c"
  },
  {
   "cell_type": "code",
   "execution_count": 8,
   "id": "initial_id",
   "metadata": {
    "collapsed": true,
    "ExecuteTime": {
     "end_time": "2024-04-15T14:07:11.208181Z",
     "start_time": "2024-04-15T14:07:08.868403Z"
    }
   },
   "outputs": [
    {
     "name": "stderr",
     "output_type": "stream",
     "text": [
      "\u001B[32m2024-04-15 22:07:08.870\u001B[0m | \u001B[1mINFO    \u001B[0m | \u001B[36mecjtu.client\u001B[0m:\u001B[36mlogin\u001B[0m:\u001B[36m88\u001B[0m - \u001B[1mLogging in\u001B[0m\n",
      "\u001B[32m2024-04-15 22:07:11.189\u001B[0m | \u001B[1mINFO    \u001B[0m | \u001B[36mecjtu.client\u001B[0m:\u001B[36mlogin\u001B[0m:\u001B[36m131\u001B[0m - \u001B[1mLogin successful\u001B[0m\n"
     ]
    }
   ],
   "source": [
    "from typing import List\n",
    "\n",
    "from ecjtu import ECJTU\n",
    "from ecjtu.models import ElectiveCourse, ScheduledCourse, Score, GPA\n",
    "\n",
    "client = ECJTU(\"2022211003000112\", \"20030115b\")"
   ]
  },
  {
   "cell_type": "markdown",
   "source": [],
   "metadata": {
    "collapsed": false
   },
   "id": "71d753459e7f46dd"
  },
  {
   "cell_type": "markdown",
   "source": [
    "## 查询课程表\n",
    "\n",
    "使用 client，你可以获取选修的课程、课程表、绩点、成绩等信息。下面的示例展示了如何使用 client 获取今日课表。"
   ],
   "metadata": {
    "collapsed": false
   },
   "id": "520130535d117b65"
  },
  {
   "cell_type": "code",
   "outputs": [
    {
     "name": "stderr",
     "output_type": "stream",
     "text": [
      "\u001B[32m2024-04-15 22:07:11.291\u001B[0m | \u001B[1mINFO    \u001B[0m | \u001B[36mecjtu.crud\u001B[0m:\u001B[36m_fetch_courses\u001B[0m:\u001B[36m63\u001B[0m - \u001B[1mclass_span='3,4' course='工程地质学' course_name='工程地质学(20232-1)' week_span='1-12' course_type='限选课' teacher='黄龙华' week_day=1 class_room='31-510' pk_type='上课'\u001B[0m\n"
     ]
    },
    {
     "name": "stdout",
     "output_type": "stream",
     "text": [
      "[ScheduledCourse(class_span='3,4', course='工程地质学', course_name='工程地质学(20232-1)', week_span='1-12', course_type='限选课', teacher='黄龙华', week_day=1, class_room='31-510', pk_type='上课')]\n"
     ]
    }
   ],
   "source": [
    "courses: List[ScheduledCourse] = client.scheduled_courses.today()\n",
    "print(courses)"
   ],
   "metadata": {
    "collapsed": false,
    "ExecuteTime": {
     "end_time": "2024-04-15T14:07:11.301276Z",
     "start_time": "2024-04-15T14:07:11.210566Z"
    }
   },
   "id": "e2f416384ab1ead5",
   "execution_count": 9
  },
  {
   "cell_type": "markdown",
   "source": [
    "获取本周课表"
   ],
   "metadata": {
    "collapsed": false
   },
   "id": "d4e7e0fb317668a5"
  },
  {
   "cell_type": "code",
   "outputs": [
    {
     "name": "stderr",
     "output_type": "stream",
     "text": [
      "\u001B[32m2024-04-15 22:07:11.383\u001B[0m | \u001B[1mINFO    \u001B[0m | \u001B[36mecjtu.crud\u001B[0m:\u001B[36m_fetch_courses\u001B[0m:\u001B[36m63\u001B[0m - \u001B[1mclass_span='3,4' course='工程地质学' course_name='工程地质学(20232-1)' week_span='1-12' course_type='限选课' teacher='黄龙华' week_day=1 class_room='31-510' pk_type='上课'\u001B[0m\n",
      "\u001B[32m2024-04-15 22:07:11.470\u001B[0m | \u001B[1mINFO    \u001B[0m | \u001B[36mecjtu.crud\u001B[0m:\u001B[36m_fetch_courses\u001B[0m:\u001B[36m63\u001B[0m - \u001B[1mclass_span='5,6' course='软件工程（B）' course_name='软件工程（B）(20232-2)' week_span='1-16' course_type='必修课' teacher='刘冲' week_day=2 class_room='31-313' pk_type='上课'\u001B[0m\n",
      "\u001B[32m2024-04-15 22:07:11.536\u001B[0m | \u001B[1mINFO    \u001B[0m | \u001B[36mecjtu.crud\u001B[0m:\u001B[36m_fetch_courses\u001B[0m:\u001B[36m63\u001B[0m - \u001B[1mclass_span='3,4' course='材料力学(B)' course_name='材料力学(B)(20232-1)' week_span='1-15' course_type='必修课' teacher='程俊峰' week_day=3 class_room='31-504' pk_type='上课'\u001B[0m\n",
      "\u001B[32m2024-04-15 22:07:11.537\u001B[0m | \u001B[1mINFO    \u001B[0m | \u001B[36mecjtu.crud\u001B[0m:\u001B[36m_fetch_courses\u001B[0m:\u001B[36m63\u001B[0m - \u001B[1mclass_span='5,6' course='计算方法(B)' course_name='计算方法(B)(20232-2)' week_span='1-16' course_type='限选课' teacher='邓志刚' week_day=3 class_room='31-503' pk_type='上课'\u001B[0m\n",
      "\u001B[32m2024-04-15 22:07:11.538\u001B[0m | \u001B[1mINFO    \u001B[0m | \u001B[36mecjtu.crud\u001B[0m:\u001B[36m_fetch_courses\u001B[0m:\u001B[36m63\u001B[0m - \u001B[1mclass_span='7,8' course='体育IⅤ' course_name='定向越野Ⅳ(20232-1)' week_span='1-16' course_type='必修课' teacher='余振东' week_day=3 class_room='北区田径场3' pk_type='上课'\u001B[0m\n",
      "\u001B[32m2024-04-15 22:07:11.618\u001B[0m | \u001B[1mINFO    \u001B[0m | \u001B[36mecjtu.crud\u001B[0m:\u001B[36m_fetch_courses\u001B[0m:\u001B[36m63\u001B[0m - \u001B[1mclass_span='3,4' course='材料力学(B)' course_name='材料力学(B)(20232-1)' week_span='8' course_type='必修课' teacher='程俊峰' week_day=4 class_room='材料力学实验室(教9-202、113、114、结108)' pk_type='实验'\u001B[0m\n",
      "\u001B[32m2024-04-15 22:07:11.619\u001B[0m | \u001B[1mINFO    \u001B[0m | \u001B[36mecjtu.crud\u001B[0m:\u001B[36m_fetch_courses\u001B[0m:\u001B[36m63\u001B[0m - \u001B[1mclass_span='9,10' course='大学日语Ⅳ' course_name='日语(2022-1)' week_span='1-16' course_type='必修课' teacher='谢幸荣' week_day=4 class_room='25-121' pk_type='上课'\u001B[0m\n",
      "\u001B[32m2024-04-15 22:07:11.677\u001B[0m | \u001B[1mINFO    \u001B[0m | \u001B[36mecjtu.crud\u001B[0m:\u001B[36m_fetch_courses\u001B[0m:\u001B[36m63\u001B[0m - \u001B[1mclass_span='1,2' course='材料力学(B)' course_name='材料力学(B)(20232-1)' week_span='1-15' course_type='必修课' teacher='程俊峰' week_day=5 class_room='31-504' pk_type='上课'\u001B[0m\n",
      "\u001B[32m2024-04-15 22:07:11.678\u001B[0m | \u001B[1mINFO    \u001B[0m | \u001B[36mecjtu.crud\u001B[0m:\u001B[36m_fetch_courses\u001B[0m:\u001B[36m63\u001B[0m - \u001B[1mclass_span='3,4' course='Java程序设计(B)' course_name='Java程序设计(B)(20232-2)' week_span='1-16' course_type='限选课' teacher='王珏' week_day=5 class_room='31-311D' pk_type='上课'\u001B[0m\n",
      "\u001B[32m2024-04-15 22:07:11.678\u001B[0m | \u001B[1mINFO    \u001B[0m | \u001B[36mecjtu.crud\u001B[0m:\u001B[36m_fetch_courses\u001B[0m:\u001B[36m63\u001B[0m - \u001B[1mclass_span='5,6' course='数据库系统原理' course_name='数据库系统原理(20232-2)' week_span='1-16' course_type='必修课' teacher='魏永丰' week_day=5 class_room='31-505' pk_type='上课'\u001B[0m\n"
     ]
    },
    {
     "name": "stdout",
     "output_type": "stream",
     "text": [
      "星期1\n",
      "class_span='3,4' course='工程地质学' course_name='工程地质学(20232-1)' week_span='1-12' course_type='限选课' teacher='黄龙华' week_day=1 class_room='31-510' pk_type='上课'\n",
      "星期2\n",
      "class_span='5,6' course='软件工程（B）' course_name='软件工程（B）(20232-2)' week_span='1-16' course_type='必修课' teacher='刘冲' week_day=2 class_room='31-313' pk_type='上课'\n",
      "星期3\n",
      "class_span='3,4' course='材料力学(B)' course_name='材料力学(B)(20232-1)' week_span='1-15' course_type='必修课' teacher='程俊峰' week_day=3 class_room='31-504' pk_type='上课'\n",
      "class_span='5,6' course='计算方法(B)' course_name='计算方法(B)(20232-2)' week_span='1-16' course_type='限选课' teacher='邓志刚' week_day=3 class_room='31-503' pk_type='上课'\n",
      "class_span='7,8' course='体育IⅤ' course_name='定向越野Ⅳ(20232-1)' week_span='1-16' course_type='必修课' teacher='余振东' week_day=3 class_room='北区田径场3' pk_type='上课'\n",
      "星期4\n",
      "class_span='3,4' course='材料力学(B)' course_name='材料力学(B)(20232-1)' week_span='8' course_type='必修课' teacher='程俊峰' week_day=4 class_room='材料力学实验室(教9-202、113、114、结108)' pk_type='实验'\n",
      "class_span='9,10' course='大学日语Ⅳ' course_name='日语(2022-1)' week_span='1-16' course_type='必修课' teacher='谢幸荣' week_day=4 class_room='25-121' pk_type='上课'\n",
      "星期5\n",
      "class_span='1,2' course='材料力学(B)' course_name='材料力学(B)(20232-1)' week_span='1-15' course_type='必修课' teacher='程俊峰' week_day=5 class_room='31-504' pk_type='上课'\n",
      "class_span='3,4' course='Java程序设计(B)' course_name='Java程序设计(B)(20232-2)' week_span='1-16' course_type='限选课' teacher='王珏' week_day=5 class_room='31-311D' pk_type='上课'\n",
      "class_span='5,6' course='数据库系统原理' course_name='数据库系统原理(20232-2)' week_span='1-16' course_type='必修课' teacher='魏永丰' week_day=5 class_room='31-505' pk_type='上课'\n",
      "星期6\n",
      "星期7\n"
     ]
    }
   ],
   "source": [
    "courses: List[List[ScheduledCourse]] = client.scheduled_courses.this_week()\n",
    "\n",
    "for day, courses in enumerate(courses):\n",
    "    print(f\"星期{day + 1}\")\n",
    "    for course in courses:\n",
    "        print(course)"
   ],
   "metadata": {
    "collapsed": false,
    "ExecuteTime": {
     "end_time": "2024-04-15T14:07:11.827480Z",
     "start_time": "2024-04-15T14:07:11.302284Z"
    }
   },
   "id": "3f83ebf27ada48a0",
   "execution_count": 10
  },
  {
   "cell_type": "markdown",
   "source": [
    "获取指定日期的课程表，日期格式为 `yyyy-mm-dd`"
   ],
   "metadata": {
    "collapsed": false
   },
   "id": "64c9d82c34b8a728"
  },
  {
   "cell_type": "code",
   "outputs": [
    {
     "name": "stdout",
     "output_type": "stream",
     "text": [
      "[]\n"
     ]
    }
   ],
   "source": [
    "courses: List[ScheduledCourse] = client.scheduled_courses.filter(date=\"2023-04-15\")\n",
    "\n",
    "print(courses)"
   ],
   "metadata": {
    "collapsed": false,
    "ExecuteTime": {
     "end_time": "2024-04-15T14:07:11.905280Z",
     "start_time": "2024-04-15T14:07:11.829373Z"
    }
   },
   "id": "7dabdb8809a45c1c",
   "execution_count": 11
  },
  {
   "cell_type": "markdown",
   "source": [
    "## Score\n",
    "\n",
    "获取本学期成绩\n",
    "\n",
    "> 事实上，获取的是上个学期的成绩，因为本学期的成绩通常要等到期末才出来。"
   ],
   "metadata": {
    "collapsed": false
   },
   "id": "1eaa77ad5d8da8cd"
  },
  {
   "cell_type": "code",
   "outputs": [
    {
     "name": "stdout",
     "output_type": "stream",
     "text": [
      "[Score(semester='2023.1', course_name='【1500100250】网页动画制作', course_nature='公共任选课【科学技术类】', credit=2.0, grade='优秀'), Score(semester='2023.1', course_name='【1501100020】理论力学（A）', course_nature='必修课', credit=3.5, grade='92'), Score(semester='2023.1', course_name='【1505100033】体育Ⅲ', course_nature='必修课', credit=1.0, grade='93'), Score(semester='2023.1', course_name='【1508100090】概率论与数理统计', course_nature='必修课', credit=3.0, grade='88'), Score(semester='2023.1', course_name='【1509103673】大学日语Ⅲ', course_nature='必修课', credit=2.0, grade='97'), Score(semester='2023.1', course_name='【1514100153】形势与政策Ⅲ', course_nature='必修课', credit=0.5, grade='优秀'), Score(semester='2023.1', course_name='【1521101440】数据结构', course_nature='必修课', credit=3.0, grade='97'), Score(semester='2023.1', course_name='【1521101450】离散数学', course_nature='必修课', credit=3.0, grade='96'), Score(semester='2023.1', course_name='【1521190081】综合课程设计Ⅰ', course_nature='必修课', credit=2.0, grade='优秀')]\n"
     ]
    }
   ],
   "source": [
    "scores: List[Score] = client.scores.today()\n",
    "print(scores)"
   ],
   "metadata": {
    "collapsed": false,
    "ExecuteTime": {
     "end_time": "2024-04-15T14:07:12.108486Z",
     "start_time": "2024-04-15T14:07:11.906451Z"
    }
   },
   "id": "a1faace016c0a7bd",
   "execution_count": 12
  },
  {
   "cell_type": "markdown",
   "source": [
    "获取指定学期的成绩"
   ],
   "metadata": {
    "collapsed": false
   },
   "id": "139549fda629cfd6"
  },
  {
   "cell_type": "code",
   "outputs": [
    {
     "name": "stdout",
     "output_type": "stream",
     "text": [
      "[Score(semester='2022.1', course_name='【1500100101】职业生涯与发展规划', course_nature='必修课', credit=0.5, grade='优秀'), Score(semester='2022.1', course_name='【1500190090】专业导论', course_nature='必修课', credit=0.0, grade='合格'), Score(semester='2022.1', course_name='【1500190200】军事技能', course_nature='必修课', credit=1.0, grade='合格'), Score(semester='2022.1', course_name='【1505100031】体育Ⅰ', course_nature='必修课', credit=1.0, grade='96'), Score(semester='2022.1', course_name='【1505101460】国家安全与军事理论', course_nature='必修课', credit=2.0, grade='优秀'), Score(semester='2022.1', course_name='【1508100011】高等数学(A)Ⅰ', course_nature='必修课', credit=6.0, grade='90'), Score(semester='2022.1', course_name='【1508100201】土建工程制图Ⅰ', course_nature='必修课', credit=3.0, grade='85'), Score(semester='2022.1', course_name='【1509103671】大学日语Ⅰ', course_nature='必修课', credit=3.0, grade='90'), Score(semester='2022.1', course_name='【1514100151】形势与政策Ⅰ', course_nature='必修课', credit=0.5, grade='良好'), Score(semester='2022.1', course_name='【1514100170】思想道德与法治', course_nature='必修课', credit=3.0, grade='90'), Score(semester='2022.1', course_name='【1521101220】软件开发基础', course_nature='必修课', credit=4.0, grade='94')]\n"
     ]
    }
   ],
   "source": [
    "scores: List[Score] = client.scores.filter(semester=\"2022.1\")\n",
    "\n",
    "print(scores)"
   ],
   "metadata": {
    "collapsed": false,
    "ExecuteTime": {
     "end_time": "2024-04-15T14:07:12.279496Z",
     "start_time": "2024-04-15T14:07:12.109175Z"
    }
   },
   "id": "a0cf75a1b43d34e6",
   "execution_count": 13
  },
  {
   "cell_type": "markdown",
   "source": [],
   "metadata": {
    "collapsed": false
   },
   "id": "dfe8fa8128e89ebf"
  },
  {
   "cell_type": "markdown",
   "source": [
    "## GPA\n",
    "\n",
    "获取当前 GPA"
   ],
   "metadata": {
    "collapsed": false
   },
   "id": "41b2512d00334b35"
  },
  {
   "cell_type": "code",
   "outputs": [
    {
     "name": "stdout",
     "output_type": "stream",
     "text": [
      "student_name='龙思桦' gpa='4.19' status='正常|有学籍'\n"
     ]
    }
   ],
   "source": [
    "gpa: GPA = client.gpa.today()\n",
    "\n",
    "print(gpa)"
   ],
   "metadata": {
    "collapsed": false,
    "ExecuteTime": {
     "end_time": "2024-04-15T14:07:12.481617Z",
     "start_time": "2024-04-15T14:07:12.280417Z"
    }
   },
   "id": "2cf50ef9ef5450fb",
   "execution_count": 14
  }
 ],
 "metadata": {
  "kernelspec": {
   "display_name": "Python 3",
   "language": "python",
   "name": "python3"
  },
  "language_info": {
   "codemirror_mode": {
    "name": "ipython",
    "version": 2
   },
   "file_extension": ".py",
   "mimetype": "text/x-python",
   "name": "python",
   "nbconvert_exporter": "python",
   "pygments_lexer": "ipython2",
   "version": "2.7.6"
  }
 },
 "nbformat": 4,
 "nbformat_minor": 5
}
