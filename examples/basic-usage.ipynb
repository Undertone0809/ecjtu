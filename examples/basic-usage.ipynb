{
 "cells": [
  {
   "cell_type": "markdown",
   "source": [
    "# Basic Usage\n",
    "\n",
    "该文档将介绍 ECJTU 的基本使用方式，接下来，我们导入 `ECJTU` 类，并构造一个 client 进行登录。"
   ],
   "metadata": {
    "collapsed": false
   },
   "id": "463c499cde60b78c"
  },
  {
   "cell_type": "code",
   "execution_count": 1,
   "id": "initial_id",
   "metadata": {
    "collapsed": true,
    "ExecuteTime": {
     "end_time": "2024-04-19T21:22:42.800604Z",
     "start_time": "2024-04-19T21:22:41.539373Z"
    }
   },
   "source": [
    "from typing import List\n",
    "\n",
    "from ecjtu import ECJTU\n",
    "from ecjtu.models import ScheduledCourse, Score, GPA\n",
    "\n",
    "client = ECJTU(stud_id=\"xxx\", password=\"xxx\")"
   ],
   "outputs": []
  },
  {
   "cell_type": "markdown",
   "source": [
    "我们推荐将学号和密码保存在环境变量中，ECJTU 支持以环境变量的方式初始化，下面是两种使用环境变量初始化的方式。\n",
    "\n",
    "### 方法一\n",
    "\n",
    "```python\n",
    "import os\n",
    "from ecjtu import ECJTU\n",
    "\n",
    "os.environ[\"ECJTU_STUDENT_ID\"] = \"xxx\"\n",
    "os.environ[\"ECJTU_PASSWORD\"] = \"xxx\"\n",
    "\n",
    "client = ECJTU()\n",
    "```\n",
    "\n",
    "### 方法二\n",
    "使用 [dotenv](https://pypi.org/project/python-dotenv/) 库，将学号和密码保存在 `.env` 文件中，在项目根目录下创建 `.env` 文件，内容如下：\n",
    "\n",
    "```text\n",
    "ECJTU_STUDENT_ID=xxx\n",
    "ECJTU_PASSWORD=xxx\n",
    "```\n",
    "\n",
    "然后在代码中使用如下方式初始化 client：\n",
    "\n",
    "```python\n",
    "from dotenv import load_dotenv\n",
    "from ecjtu import ECJTU\n",
    "\n",
    "load_dotenv()\n",
    "client = ECJTU()\n",
    "```\n",
    "\n",
    "通过这种方式，你可以避免将学号和密码明文保存在代码中，提高安全性。需要注意的是，不要将 `.env` 文件上传到公共仓库中，应在 `.gitignore` 中声明忽略该文件。"
   ],
   "metadata": {
    "collapsed": false
   },
   "id": "3c8a9343a593655"
  },
  {
   "cell_type": "markdown",
   "source": [
    "## 查询课程表\n",
    "\n",
    "使用 client，你可以获取选修的课程、课程表、绩点、成绩等信息。下面的示例展示了如何使用 client 获取今日课表。"
   ],
   "metadata": {
    "collapsed": false
   },
   "id": "520130535d117b65"
  },
  {
   "cell_type": "code",
   "source": [
    "courses: List[ScheduledCourse] = client.scheduled_courses.today()\n",
    "print(courses)"
   ],
   "metadata": {
    "collapsed": false
   },
   "id": "e2f416384ab1ead5",
   "execution_count": null,
   "outputs": []
  },
  {
   "cell_type": "markdown",
   "source": [
    "获取本周课表"
   ],
   "metadata": {
    "collapsed": false
   },
   "id": "d4e7e0fb317668a5"
  },
  {
   "cell_type": "code",
   "source": [
    "courses: List[List[ScheduledCourse]] = client.scheduled_courses.this_week()\n",
    "\n",
    "for day, courses in enumerate(courses):\n",
    "    print(f\"星期{day + 1}\")\n",
    "    for course in courses:\n",
    "        print(course)"
   ],
   "metadata": {
    "collapsed": false
   },
   "id": "3f83ebf27ada48a0",
   "execution_count": null,
   "outputs": []
  },
  {
   "cell_type": "markdown",
   "source": [
    "获取指定日期的课程表，日期格式为 `yyyy-mm-dd`"
   ],
   "metadata": {
    "collapsed": false
   },
   "id": "64c9d82c34b8a728"
  },
  {
   "cell_type": "code",
   "source": [
    "courses: List[ScheduledCourse] = client.scheduled_courses.filter(date=\"2023-04-15\")\n",
    "\n",
    "print(courses)"
   ],
   "metadata": {
    "collapsed": false
   },
   "id": "7dabdb8809a45c1c",
   "execution_count": null,
   "outputs": []
  },
  {
   "cell_type": "markdown",
   "source": [
    "## Score\n",
    "\n",
    "获取本学期成绩\n",
    "\n",
    "> 事实上，获取的是上个学期的成绩，因为本学期的成绩通常要等到期末才出来。"
   ],
   "metadata": {
    "collapsed": false
   },
   "id": "1eaa77ad5d8da8cd"
  },
  {
   "cell_type": "code",
   "source": [
    "scores: List[Score] = client.scores.today()\n",
    "print(scores)"
   ],
   "metadata": {
    "collapsed": false
   },
   "id": "a1faace016c0a7bd",
   "execution_count": null,
   "outputs": []
  },
  {
   "cell_type": "markdown",
   "source": [
    "获取指定学期的成绩"
   ],
   "metadata": {
    "collapsed": false
   },
   "id": "139549fda629cfd6"
  },
  {
   "cell_type": "code",
   "source": [
    "scores: List[Score] = client.scores.filter(semester=\"2022.1\")\n",
    "\n",
    "print(scores)"
   ],
   "metadata": {
    "collapsed": false
   },
   "id": "a0cf75a1b43d34e6",
   "execution_count": null,
   "outputs": []
  },
  {
   "cell_type": "markdown",
   "source": [],
   "metadata": {
    "collapsed": false
   },
   "id": "dfe8fa8128e89ebf"
  },
  {
   "cell_type": "markdown",
   "source": [
    "## GPA\n",
    "\n",
    "获取当前 GPA"
   ],
   "metadata": {
    "collapsed": false
   },
   "id": "41b2512d00334b35"
  },
  {
   "cell_type": "code",
   "source": [
    "gpa: GPA = client.gpa.today()\n",
    "\n",
    "print(gpa)"
   ],
   "metadata": {
    "collapsed": false
   },
   "id": "2cf50ef9ef5450fb",
   "execution_count": null,
   "outputs": []
  },
  {
   "cell_type": "markdown",
   "source": [
    "## 查询选修的课程"
   ],
   "metadata": {
    "collapsed": false
   },
   "id": "73e114d0e9d705d2"
  },
  {
   "cell_type": "code",
   "source": [
    "courses = client.elective_courses.today()\n",
    "\n",
    "for course in courses:\n",
    "    print(course)"
   ],
   "metadata": {
    "collapsed": false
   },
   "id": "b95c850446242749",
   "execution_count": null,
   "outputs": []
  },
  {
   "cell_type": "markdown",
   "source": [
    "根据学期查询选修的课程"
   ],
   "metadata": {
    "collapsed": false
   },
   "id": "381e96c20b56c694"
  },
  {
   "cell_type": "code",
   "source": [
    "courses = client.elective_courses.filter(semester=\"2022.1\")\n",
    "\n",
    "for course in courses:\n",
    "    print(course)"
   ],
   "metadata": {
    "collapsed": false
   },
   "id": "c81e6ab4e350f79e",
   "execution_count": null,
   "outputs": []
  },
  {
   "cell_type": "markdown",
   "source": [
    "## 异步版本\n",
    "\n",
    "异步版本与同步版本的使用方式基本一致，可以使用相同的规范调用，下面是一个简单的示例。\n",
    "\n",
    "```python\n",
    "import asyncio\n",
    "\n",
    "from ecjtu import AsyncECJTU\n",
    "\n",
    "client = AsyncECJTU(stud_id=\"xxx\", password=\"xxx\")\n",
    "\n",
    "\n",
    "async def main():\n",
    "    courses = await client.scheduled_courses.today()\n",
    "    print(courses)\n",
    "\n",
    "\n",
    "asyncio.run(main())\n",
    "\n",
    "```"
   ],
   "metadata": {
    "collapsed": false
   },
   "id": "710e5e5c41c39660"
  }
 ],
 "metadata": {
  "kernelspec": {
   "display_name": "Python 3",
   "language": "python",
   "name": "python3"
  },
  "language_info": {
   "codemirror_mode": {
    "name": "ipython",
    "version": 2
   },
   "file_extension": ".py",
   "mimetype": "text/x-python",
   "name": "python",
   "nbconvert_exporter": "python",
   "pygments_lexer": "ipython2",
   "version": "2.7.6"
  }
 },
 "nbformat": 4,
 "nbformat_minor": 5
}
