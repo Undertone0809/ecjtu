{
 "cells": [
  {
   "cell_type": "markdown",
   "metadata": {},
   "source": [
    "# ecjtu-api\n",
    "我们提供了ecjtu的一套服务。\n",
    "通过fastapi的形式实现"
   ]
  },
  {
   "cell_type": "markdown",
   "metadata": {},
   "source": [
    "## 相关接口描述\n",
    "\n",
    "详细信息可以参考ecjtu-api.md。\n",
    "\n",
    "1. 登录\n",
    "    \n",
    "    post /login \n",
    "    通过学号和密码进行登录，获取登录token，其他接口的请求均要token认证\n",
    "2. gpa\n",
    "    \n",
    "    get /gpa\n",
    "    获取当前gpa情况\n",
    "3. 课表\n",
    "    * get /schedule\n",
    "        获取今日课表\n",
    "    * get /schedule/{date}\n",
    "        获取指定日期课表 date格式为2024-05-01\n",
    "    * get /schedule/week\n",
    "        获取本周课表\n",
    "4. 成绩\n",
    "    * get /score\n",
    "        获取目前成绩\n",
    "    * /score/{semester}\n",
    "        获取指定学期成绩 semester格式为2023.1\n",
    "5. 选课情况\n",
    "    * get /elective_courses\n",
    "        获取当前选课信息\n",
    "    * get /elective_courses/{semester}\n",
    "        获取指定学期选课信息 semester格式为2023.1"
   ]
  },
  {
   "cell_type": "markdown",
   "metadata": {},
   "source": [
    "## 服务的启动\n",
    "我们提供了两种服务的启动方式\n",
    "\n",
    "### 通过python文件启动"
   ]
  },
  {
   "cell_type": "code",
   "execution_count": null,
   "metadata": {},
   "outputs": [],
   "source": [
    "from ecjtu.ecjtu_api.api import start_api_server\n",
    "\n",
    "def main():\n",
    "    start_api_server(port=8080)\n",
    "\n",
    "if __name__ == '__main__':\n",
    "    main()"
   ]
  },
  {
   "cell_type": "markdown",
   "metadata": {},
   "source": [
    "## 通过命令行启动"
   ]
  },
  {
   "cell_type": "code",
   "execution_count": null,
   "metadata": {
    "vscode": {
     "languageId": "shellscript"
    }
   },
   "outputs": [],
   "source": [
    "python ecjtu/server.py --port 8080 "
   ]
  }
 ],
 "metadata": {
  "kernelspec": {
   "display_name": "ecjtut",
   "language": "python",
   "name": "python3"
  },
  "language_info": {
   "codemirror_mode": {
    "name": "ipython",
    "version": 3
   },
   "file_extension": ".py",
   "mimetype": "text/x-python",
   "name": "python",
   "nbconvert_exporter": "python",
   "pygments_lexer": "ipython3",
   "version": "3.10.14"
  }
 },
 "nbformat": 4,
 "nbformat_minor": 2
}
