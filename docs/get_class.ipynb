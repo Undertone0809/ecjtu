{
 "cells": [
  {
   "cell_type": "markdown",
   "metadata": {},
   "source": [
    "# 获取课程表\n",
    "## 导入相关库"
   ]
  },
  {
   "cell_type": "code",
   "execution_count": 1,
   "metadata": {},
   "outputs": [],
   "source": [
    "import requests \n",
    "import json\n",
    "from bs4 import BeautifulSoup"
   ]
  },
  {
   "cell_type": "markdown",
   "metadata": {},
   "source": [
    "## 预先操作\n",
    "1. 加密密码"
   ]
  },
  {
   "cell_type": "code",
   "execution_count": 2,
   "metadata": {},
   "outputs": [
    {
     "name": "stdout",
     "output_type": "stream",
     "text": [
      "30052603102467EDE4DA3F7C61F023727039121D4EC611A63A537C2277D34897F693CC5142911946DFDD34206A55049E\n"
     ]
    }
   ],
   "source": [
    "def get_enc_password(origin_pwd: str) -> str:\n",
    "    ENC_URL = 'http://cas.ecjtu.edu.cn/cas/loginPasswdEnc'\n",
    "    enc_response = requests.post(ENC_URL, data={'pwd': origin_pwd})\n",
    "\n",
    "    _ = enc_response.content.decode('utf8').replace(\"'\", '\"')\n",
    "    return json.loads(_)['passwordEnc']\n",
    "\n",
    "password = \"your_password\"\n",
    "print(get_enc_password(password))"
   ]
  },
  {
   "cell_type": "markdown",
   "metadata": {},
   "source": [
    "2. 收集相关的api"
   ]
  },
  {
   "cell_type": "code",
   "execution_count": 3,
   "metadata": {},
   "outputs": [],
   "source": [
    "ecjtu_login = \"http://cas.ecjtu.edu.cn/cas/login\" # 智慧交大登录页\n",
    "jwxt_login = \"https://jwxt.ecjtu.edu.cn/stuMag/Login_dcpLogin.action\" # 教务系统登录页\n",
    "ecjtu_to_jwxt = \"http://cas.ecjtu.edu.cn/cas/login?service=https%3A%2F%2Fjwxt.ecjtu.edu.cn%2FstuMag%2FLogin_dcpLogin.action\" #智慧交大登录教务系统\n",
    "get_classes = \"https://jwxt.ecjtu.edu.cn/Schedule/Weekcalendar_getTodayWeekcalendar.action\" # 获取课程信息(post)\n",
    "get_grade = \"https://jwxt.ecjtu.edu.cn/scoreQuery/stuScoreQue_getStuScore.action?item=0401\" # 获取成绩信息(get)"
   ]
  },
  {
   "cell_type": "markdown",
   "metadata": {},
   "source": [
    "## 登录"
   ]
  },
  {
   "cell_type": "code",
   "execution_count": 4,
   "metadata": {},
   "outputs": [
    {
     "name": "stdout",
     "output_type": "stream",
     "text": [
      "登录成功\n",
      "classString   1-2\n",
      "courseRequire   必修课\n",
      "teacherName   程俊峰\n",
      "weekDay   5\n",
      "classRoom   材料力学实验室(教9-202、113、114、结108)\n",
      "classSpan   1,2\n",
      "course   材料力学(B)\n",
      "className   材料力学(B)(20232-1)\n",
      "weekSpan   6\n",
      "pkType   实验\n",
      "\n",
      "\n",
      "classString   3-4\n",
      "courseRequire   限选课\n",
      "teacherName   王珏\n",
      "weekDay   5\n",
      "classRoom   31-311D\n",
      "classSpan   3,4\n",
      "course   Java程序设计(B)\n",
      "className   Java程序设计(B)(20232-2)\n",
      "weekSpan   1-16\n",
      "pkType   上课\n",
      "\n",
      "\n",
      "classString   5-6\n",
      "courseRequire   必修课\n",
      "teacherName   魏永丰\n",
      "weekDay   5\n",
      "classRoom   31-505\n",
      "classSpan   5,6\n",
      "course   数据库系统原理\n",
      "className   数据库系统原理(20232-2)\n",
      "weekSpan   1-16\n",
      "pkType   上课\n",
      "\n",
      "\n"
     ]
    }
   ],
   "source": [
    "def login(username:str,password:str,session:requests.Session) -> requests.Session:\n",
    "    # 关闭警告\n",
    "    requests.packages.urllib3.disable_warnings()\n",
    "    # 获取密码\n",
    "    enc = get_enc_password(password)\n",
    "    # 打包登录body\n",
    "    login_data = {\n",
    "        'username': username,\n",
    "        'password': enc,\n",
    "        'lt': '',\n",
    "        \"service\":\"http://portal.ecjtu.edu.cn/dcp/index.jsp\",\n",
    "    }\n",
    "    # 获取lt\n",
    "    headers = {\n",
    "        # 设置UA\n",
    "        \"User-Agent\": \"Mozilla/5.0 (Windows NT 10.0; Win64; x64) AppleWebKit/537.36 (KHTML, like Gecko) Chrome/58.0.3029.110 Safari/537.3\",\n",
    "        # 设置Host\n",
    "        \"Host\": \"cas.ecjtu.edu.cn\"\n",
    "    }\n",
    "    response = session.get(ecjtu_login,headers=headers)\n",
    "    soup = BeautifulSoup(response.content, 'html.parser')\n",
    "    login_data['lt'] = soup.find('input', {'name': 'lt'})['value']\n",
    "    # 登录\n",
    "    headers_append = {\n",
    "        \"Content-Type\": \"application/x-www-form-urlencoded\",\n",
    "        \"Referer\": \"http://cas.ecjtu.edu.cn/cas/login\"\n",
    "      }\n",
    "    headers.update(headers_append)\n",
    "    response = session.post(ecjtu_login, data=login_data,headers=headers,allow_redirects=False)\n",
    "    if not response.cookies.get('CASTGC'):\n",
    "        print(\"账户或密码错误\")\n",
    "        return None\n",
    "    # 获取教务JSESSIONID\n",
    "    session.get(jwxt_login,headers=headers,allow_redirects=False,verify=False)\n",
    "    # 获取教务跳转登录链接\n",
    "    response_url = session.get(ecjtu_to_jwxt,allow_redirects=False)\n",
    "    # 登录教务系统\n",
    "    result = session.get(response_url.headers['Location'])\n",
    "    if result.status_code != 200:\n",
    "        print(\"教务系统错误，登录失败\")\n",
    "        return None\n",
    "    print(\"登录成功\")\n",
    "    return session\n",
    "\n",
    "session = requests.Session()\n",
    "login(\"2022211003000112\",\"20030115b\",session)\n",
    "classes = session.post(get_classes,data={\"date\":\"2024-04-05\"})\n",
    "for k,v in classes.json().items():\n",
    "    if k == \"weekcalendarpojoList\":\n",
    "        for item in v:\n",
    "            for i,j in item.items():\n",
    "                print(i,\" \",j)\n",
    "            print(\"\\n\")\n"
   ]
  }
 ],
 "metadata": {
  "kernelspec": {
   "display_name": "ecjtut",
   "language": "python",
   "name": "python3"
  },
  "language_info": {
   "codemirror_mode": {
    "name": "ipython",
    "version": 3
   },
   "file_extension": ".py",
   "mimetype": "text/x-python",
   "name": "python",
   "nbconvert_exporter": "python",
   "pygments_lexer": "ipython3",
   "version": "3.11.8"
  }
 },
 "nbformat": 4,
 "nbformat_minor": 2
}
