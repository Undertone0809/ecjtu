{
 "cells": [
  {
   "cell_type": "markdown",
   "metadata": {},
   "source": [
    "# 基本功能\n",
    "\n",
    "## 摘要\n",
    "1. 通过httpx代替requests进行请求\n",
    "2. 教务系统登录login\n",
    "3. 查询今天要上的课get_classes_day() 默认今天\n",
    "4. 查询指定日期的课程get_classes_day(\"指定日期\")，日期格式：2024.01.02\n",
    "5. 输入学期+周查询周课表get_classes_from_week(\"2022.1\",\"周次\")，不输入默认本周\n",
    "6. 查询绩点情况get_grade_count()\n",
    "7. 根据学期查询各课绩点情况get_grade(\"2023-1\")，必填"
   ]
  },
  {
   "cell_type": "markdown",
   "metadata": {},
   "source": [
    "## 相关代码实现\n",
    "引入相关库"
   ]
  },
  {
   "cell_type": "code",
   "execution_count": 3,
   "metadata": {},
   "outputs": [],
   "source": [
    "from pydantic import \n",
    "\n",
    "import json\n",
    "import re\n",
    "from bs4 import BeautifulSoup\n",
    "import httpx\n",
    "import asyncio\n",
    "import datetime"
   ]
  },
  {
   "cell_type": "markdown",
   "metadata": {},
   "source": [
    "相关链接url"
   ]
  },
  {
   "cell_type": "code",
   "execution_count": 4,
   "metadata": {},
   "outputs": [],
   "source": [
    "ecjtu_login = \"http://cas.ecjtu.edu.cn/cas/login\" # 智慧交大登录页\n",
    "jwxt_login = \"https://jwxt.ecjtu.edu.cn/stuMag/Login_dcpLogin.action\" # 教务系统登录页\n",
    "ecjtu_to_jwxt = \"http://cas.ecjtu.edu.cn/cas/login?service=https%3A%2F%2Fjwxt.ecjtu.edu.cn%2FstuMag%2FLogin_dcpLogin.action\" #智慧交大登录教务系统\n",
    "get_classes = \"https://jwxt.ecjtu.edu.cn/Schedule/Weekcalendar_getTodayWeekcalendar.action\" # 获取课程信息(post)\n",
    "get_grade = \"https://jwxt.ecjtu.edu.cn/scoreQuery/stuScoreQue_getStuScore.action?item=0401\" # 获取成绩信息(get)"
   ]
  },
  {
   "cell_type": "markdown",
   "metadata": {},
   "source": [
    "### 1. 用户登录login\n",
    "1. 获取加密密码"
   ]
  },
  {
   "cell_type": "code",
   "execution_count": 5,
   "metadata": {},
   "outputs": [
    {
     "name": "stdout",
     "output_type": "stream",
     "text": [
      "30052603102467EDE4DA3F7C61F023727039121D4EC611A63A537C2277D34897F693CC5142911946DFDD34206A55049E\n"
     ]
    }
   ],
   "source": [
    "def get_enc_password(origin_pwd: str) -> str:\n",
    "    ENC_URL = 'http://cas.ecjtu.edu.cn/cas/loginPasswdEnc'\n",
    "    enc_response = httpx.post(ENC_URL, data={'pwd': origin_pwd})\n",
    "\n",
    "    _ = enc_response.content.decode('utf8').replace(\"'\", '\"')\n",
    "    return json.loads(_)['passwordEnc']\n",
    "\n",
    "password = \"your_password\"\n",
    "print(get_enc_password(password))"
   ]
  },
  {
   "cell_type": "markdown",
   "metadata": {},
   "source": [
    "2. 登录login"
   ]
  },
  {
   "cell_type": "code",
   "execution_count": 6,
   "metadata": {},
   "outputs": [
    {
     "name": "stdout",
     "output_type": "stream",
     "text": [
      "登录成功\n"
     ]
    }
   ],
   "source": [
    "async def login(username: str, password: str, session: httpx.AsyncClient) -> httpx.AsyncClient:\n",
    "    \"\"\"登录教务系统\"\"\"\n",
    "\n",
    "    # 获取加密密码\n",
    "    enc_password = get_enc_password(password)\n",
    "    # 打包登录body\n",
    "    login_data = {\n",
    "        \"username\": username,\n",
    "        \"password\": enc_password,\n",
    "        \"lt\": \"\",\n",
    "        \"service\": \"http://portal.ecjtu.edu.cn/dcp/index.jsp\",\n",
    "    }\n",
    "    # 获取lt\n",
    "    headers = {\n",
    "        # 设置UA\n",
    "        \"User-Agent\": \"Mozilla/5.0 (Windows NT 10.0; Win64; x64) AppleWebKit/537.36 (KHTML, like Gecko) Chrome/58.0.3029.110 Safari/537.3\",\n",
    "        # 设置Host\n",
    "        \"Host\": \"cas.ecjtu.edu.cn\",\n",
    "    }\n",
    "    response =await session.get(ecjtu_login, headers=headers)\n",
    "    soup = BeautifulSoup(response.content, \"html.parser\")\n",
    "    login_data[\"lt\"] = soup.find(\"input\", {\"name\": \"lt\"})[\"value\"]\n",
    "    # 封包headers\n",
    "    headers_append = {\n",
    "        \"Content-Type\": \"application/x-www-form-urlencoded\",\n",
    "        \"Referer\": \"http://cas.ecjtu.edu.cn/cas/login\",\n",
    "    }\n",
    "    headers.update(headers_append)\n",
    "    # 发送登录请求\n",
    "    response = await session.post(ecjtu_login, data=login_data, headers=headers)\n",
    "    # 能拿到cookie中的CASTGC则登录成功\n",
    "    if not response.cookies.get(\"CASTGC\"):\n",
    "        print(\"登录失败\")\n",
    "        return None\n",
    "    # 登录教务系统\n",
    "    response = await session.get(jwxt_login, headers=headers)\n",
    "    # 获取教务系统重定向\n",
    "    response_url =await session.get(ecjtu_to_jwxt)\n",
    "    # 绑定教务系统cookie\n",
    "    result =await session.get(response_url.headers['Location'],follow_redirects=True)\n",
    "    if result.status_code != 200:\n",
    "        print(\"教务系统错误\")\n",
    "        return None\n",
    "    print(\"登录成功\")\n",
    "    return session\n",
    "\n",
    "async def main():\n",
    "    client = httpx.AsyncClient(verify=False)\n",
    "    session = await login(\"2022211003000111\", \"mzdwzyddn0\", client)\n",
    "\n",
    "\n",
    "# if __name__ == \"__main__\":\n",
    "    # asyncio.run(main())\n",
    "await main()    # 在jupyter notebook中使用asyncio.run会报错，所以使用await main()代替\n",
    "\n"
   ]
  },
  {
   "cell_type": "markdown",
   "metadata": {},
   "source": [
    "3. 查询指定日期课程（get_classes_day）"
   ]
  },
  {
   "cell_type": "code",
   "execution_count": 15,
   "metadata": {},
   "outputs": [
    {
     "name": "stdout",
     "output_type": "stream",
     "text": [
      "登录成功\n",
      "[{'课程时间': '5-6', '课程名': '排球Ⅳ(20232-7)', '课程教室': '北区田径场25', '老师名': '梁日尉', '是否实验': '上课'}, {'课程时间': '7-8', '课程名': '生活中的经济学(20232-1)', '课程教室': '31-204', '老师名': '刘志虹', '是否实验': '上课'}]\n",
      "[{'课程时间': '1-2', '课程名': 'IB级(2022-13)', '课程教室': '31-612', '老师名': '陶国潇', '是否实验': '上课'}, {'课程时间': '3-4', '课程名': '线性代数B(20232-1)', '课程教室': '31-501', '老师名': '詹小秦', '是否实验': '上课'}]\n",
      "{'date': '2024-03-07', 'dsWeek': 2, 'userflag': 0, 'week': 2, 'weekcalendarpojoList': [{'classString': '1-2', 'courseRequire': '必修课', 'teacherName': '陶国潇', 'weekDay': 4, 'classRoom': '31-612', 'classSpan': '1,2', 'course': '大学英语Ⅳ', 'className': 'IB级(2022-13)', 'weekSpan': '1-16', 'pkType': '上课'}, {'classString': '3-4', 'courseRequire': '必修课', 'teacherName': '詹小秦', 'weekDay': 4, 'classRoom': '31-501', 'classSpan': '3,4', 'course': '线性代数B', 'className': '线性代数B(20232-1)', 'weekSpan': '1-16', 'pkType': '上课'}], 'weekDay': '4'}\n"
     ]
    }
   ],
   "source": [
    "async def get_classes_day(session: httpx.AsyncClient,date:str = datetime.datetime.now().strftime(\"%Y-%m-%d\"))->list:\n",
    "    \"\"\"获取指定课程\"\"\"\n",
    "    data = {\n",
    "        \"date\": date\n",
    "    }\n",
    "    classes =await session.post(get_classes, data=data)\n",
    "    if len(classes.json()[\"weekcalendarpojoList\"]) == 0:\n",
    "        return \"今天没有课\"\n",
    "    # 返回今天的课（课程时间，课程名，课程教室，老师名，是否实验)\n",
    "    class_list = []\n",
    "    for item in classes.json()[\"weekcalendarpojoList\"]:\n",
    "        class_info = {\n",
    "                \"课程时间\": item[\"classString\"],\n",
    "                \"课程名\": item[\"className\"],\n",
    "                \"课程教室\": item[\"classRoom\"],\n",
    "                \"老师名\": item[\"teacherName\"],\n",
    "                \"是否实验\": item[\"pkType\"],\n",
    "        }\n",
    "        class_list.append(class_info)\n",
    "        # class_info = {\n",
    "        #         \"class_time\": item[\"classString\"],\n",
    "        #         \"class_name\": item[\"className\"],\n",
    "        #         \"class_room\": item[\"classRoom\"],\n",
    "        #         \"class_teacher\": item[\"teacherName\"],\n",
    "        #         \"is_experiment\": item[\"pkType\"],\n",
    "        # }\n",
    "    return class_list\n",
    "\n",
    "client = httpx.AsyncClient(verify=False)\n",
    "session = await login(\"2022211003000111\", \"mzdwzyddn0\", client)\n",
    "print(await get_classes_day(session=session))\n",
    "print(await get_classes_day(session=session,date=\"2024-03-07\"))\n",
    "respose = await session.post(get_classes, data={\"date\": \"2024-03-07\"})\n",
    "print(respose.json())\n",
    "\n",
    "\n",
    "\n"
   ]
  },
  {
   "cell_type": "markdown",
   "metadata": {},
   "source": [
    "4. 输入学期查询周课表get_classes_from_week"
   ]
  },
  {
   "cell_type": "code",
   "execution_count": null,
   "metadata": {},
   "outputs": [],
   "source": [
    "def get_classes_from_week(week: int)"
   ]
  }
 ],
 "metadata": {
  "kernelspec": {
   "display_name": "ecjtut",
   "language": "python",
   "name": "python3"
  },
  "language_info": {
   "codemirror_mode": {
    "name": "ipython",
    "version": 3
   },
   "file_extension": ".py",
   "mimetype": "text/x-python",
   "name": "python",
   "nbconvert_exporter": "python",
   "pygments_lexer": "ipython3",
   "version": "3.10.14"
  }
 },
 "nbformat": 4,
 "nbformat_minor": 2
}
